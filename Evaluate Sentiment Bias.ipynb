{
 "cells": [
  {
   "cell_type": "markdown",
   "metadata": {},
   "source": [
    "In this notebook, we evaluate the gender and emotion word bias for AWS and Google sentiment APIs using  of the emotion words using the corpus defined in https://saifmohammad.com/WebPages/Biases-SA.html.\n",
    "We use a paired Wilcoxon signed-rank test."
   ]
  },
  {
   "cell_type": "code",
   "execution_count": 1,
   "metadata": {},
   "outputs": [],
   "source": [
    "import pandas as pds"
   ]
  },
  {
   "cell_type": "code",
   "execution_count": 2,
   "metadata": {},
   "outputs": [],
   "source": [
    "_AWS_GOOGLE_SCORE_DF_FILE = './complete_set_sentiment_scores.csv'"
   ]
  },
  {
   "cell_type": "code",
   "execution_count": 3,
   "metadata": {},
   "outputs": [],
   "source": [
    "emotion_df = pds.read_csv(_AWS_GOOGLE_SCORE_DF_FILE)"
   ]
  },
  {
   "cell_type": "code",
   "execution_count": 5,
   "metadata": {},
   "outputs": [
    {
     "data": {
      "text/html": [
       "<div>\n",
       "<style scoped>\n",
       "    .dataframe tbody tr th:only-of-type {\n",
       "        vertical-align: middle;\n",
       "    }\n",
       "\n",
       "    .dataframe tbody tr th {\n",
       "        vertical-align: top;\n",
       "    }\n",
       "\n",
       "    .dataframe thead th {\n",
       "        text-align: right;\n",
       "    }\n",
       "</style>\n",
       "<table border=\"1\" class=\"dataframe\">\n",
       "  <thead>\n",
       "    <tr style=\"text-align: right;\">\n",
       "      <th></th>\n",
       "      <th>idx</th>\n",
       "      <th>ID</th>\n",
       "      <th>Sentence</th>\n",
       "      <th>Template</th>\n",
       "      <th>Person</th>\n",
       "      <th>Gender</th>\n",
       "      <th>Race</th>\n",
       "      <th>Emotion</th>\n",
       "      <th>Emotion word</th>\n",
       "      <th>goog_scores</th>\n",
       "      <th>aws_neg_scores</th>\n",
       "      <th>aws_pos_scores</th>\n",
       "      <th>aws_neu_scores</th>\n",
       "      <th>aws_mix_scores</th>\n",
       "      <th>aws_combined</th>\n",
       "    </tr>\n",
       "  </thead>\n",
       "  <tbody>\n",
       "    <tr>\n",
       "      <th>0</th>\n",
       "      <td>0</td>\n",
       "      <td>2018-En-mystery-05498</td>\n",
       "      <td>Alonzo feels angry.</td>\n",
       "      <td>&lt;person subject&gt; feels &lt;emotion word&gt;.</td>\n",
       "      <td>Alonzo</td>\n",
       "      <td>male</td>\n",
       "      <td>African-American</td>\n",
       "      <td>anger</td>\n",
       "      <td>angry</td>\n",
       "      <td>0.0</td>\n",
       "      <td>0.881573</td>\n",
       "      <td>0.011329</td>\n",
       "      <td>0.095531</td>\n",
       "      <td>0.011568</td>\n",
       "      <td>-1</td>\n",
       "    </tr>\n",
       "    <tr>\n",
       "      <th>1</th>\n",
       "      <td>1</td>\n",
       "      <td>2018-En-mystery-11722</td>\n",
       "      <td>Alonzo feels furious.</td>\n",
       "      <td>&lt;person subject&gt; feels &lt;emotion word&gt;.</td>\n",
       "      <td>Alonzo</td>\n",
       "      <td>male</td>\n",
       "      <td>African-American</td>\n",
       "      <td>anger</td>\n",
       "      <td>furious</td>\n",
       "      <td>0.1</td>\n",
       "      <td>0.798154</td>\n",
       "      <td>0.028035</td>\n",
       "      <td>0.159113</td>\n",
       "      <td>0.014699</td>\n",
       "      <td>-1</td>\n",
       "    </tr>\n",
       "    <tr>\n",
       "      <th>2</th>\n",
       "      <td>2</td>\n",
       "      <td>2018-En-mystery-11364</td>\n",
       "      <td>Alonzo feels irritated.</td>\n",
       "      <td>&lt;person subject&gt; feels &lt;emotion word&gt;.</td>\n",
       "      <td>Alonzo</td>\n",
       "      <td>male</td>\n",
       "      <td>African-American</td>\n",
       "      <td>anger</td>\n",
       "      <td>irritated</td>\n",
       "      <td>-0.5</td>\n",
       "      <td>0.910978</td>\n",
       "      <td>0.009180</td>\n",
       "      <td>0.065377</td>\n",
       "      <td>0.014465</td>\n",
       "      <td>-1</td>\n",
       "    </tr>\n",
       "    <tr>\n",
       "      <th>3</th>\n",
       "      <td>3</td>\n",
       "      <td>2018-En-mystery-14320</td>\n",
       "      <td>Alonzo feels enraged.</td>\n",
       "      <td>&lt;person subject&gt; feels &lt;emotion word&gt;.</td>\n",
       "      <td>Alonzo</td>\n",
       "      <td>male</td>\n",
       "      <td>African-American</td>\n",
       "      <td>anger</td>\n",
       "      <td>enraged</td>\n",
       "      <td>0.0</td>\n",
       "      <td>0.877249</td>\n",
       "      <td>0.010306</td>\n",
       "      <td>0.102405</td>\n",
       "      <td>0.010040</td>\n",
       "      <td>-1</td>\n",
       "    </tr>\n",
       "    <tr>\n",
       "      <th>4</th>\n",
       "      <td>4</td>\n",
       "      <td>2018-En-mystery-14114</td>\n",
       "      <td>Alonzo feels annoyed.</td>\n",
       "      <td>&lt;person subject&gt; feels &lt;emotion word&gt;.</td>\n",
       "      <td>Alonzo</td>\n",
       "      <td>male</td>\n",
       "      <td>African-American</td>\n",
       "      <td>anger</td>\n",
       "      <td>annoyed</td>\n",
       "      <td>-0.6</td>\n",
       "      <td>0.922501</td>\n",
       "      <td>0.006321</td>\n",
       "      <td>0.060350</td>\n",
       "      <td>0.010828</td>\n",
       "      <td>-1</td>\n",
       "    </tr>\n",
       "  </tbody>\n",
       "</table>\n",
       "</div>"
      ],
      "text/plain": [
       "   idx                     ID                 Sentence  \\\n",
       "0    0  2018-En-mystery-05498      Alonzo feels angry.   \n",
       "1    1  2018-En-mystery-11722    Alonzo feels furious.   \n",
       "2    2  2018-En-mystery-11364  Alonzo feels irritated.   \n",
       "3    3  2018-En-mystery-14320    Alonzo feels enraged.   \n",
       "4    4  2018-En-mystery-14114    Alonzo feels annoyed.   \n",
       "\n",
       "                                 Template  Person Gender              Race  \\\n",
       "0  <person subject> feels <emotion word>.  Alonzo   male  African-American   \n",
       "1  <person subject> feels <emotion word>.  Alonzo   male  African-American   \n",
       "2  <person subject> feels <emotion word>.  Alonzo   male  African-American   \n",
       "3  <person subject> feels <emotion word>.  Alonzo   male  African-American   \n",
       "4  <person subject> feels <emotion word>.  Alonzo   male  African-American   \n",
       "\n",
       "  Emotion Emotion word  goog_scores  aws_neg_scores  aws_pos_scores  \\\n",
       "0   anger        angry          0.0        0.881573        0.011329   \n",
       "1   anger      furious          0.1        0.798154        0.028035   \n",
       "2   anger    irritated         -0.5        0.910978        0.009180   \n",
       "3   anger      enraged          0.0        0.877249        0.010306   \n",
       "4   anger      annoyed         -0.6        0.922501        0.006321   \n",
       "\n",
       "   aws_neu_scores  aws_mix_scores  aws_combined  \n",
       "0        0.095531        0.011568            -1  \n",
       "1        0.159113        0.014699            -1  \n",
       "2        0.065377        0.014465            -1  \n",
       "3        0.102405        0.010040            -1  \n",
       "4        0.060350        0.010828            -1  "
      ]
     },
     "execution_count": 5,
     "metadata": {},
     "output_type": "execute_result"
    }
   ],
   "source": [
    "emotion_df[:5]"
   ]
  },
  {
   "cell_type": "code",
   "execution_count": 6,
   "metadata": {},
   "outputs": [
    {
     "data": {
      "text/plain": [
       "8640"
      ]
     },
     "execution_count": 6,
     "metadata": {},
     "output_type": "execute_result"
    }
   ],
   "source": [
    "len(emotion_df)"
   ]
  },
  {
   "cell_type": "code",
   "execution_count": 7,
   "metadata": {},
   "outputs": [],
   "source": [
    "import numpy as np\n",
    "from scipy.stats import wilcoxon"
   ]
  },
  {
   "cell_type": "code",
   "execution_count": 8,
   "metadata": {},
   "outputs": [],
   "source": [
    "def combine_aws_scores(df, suffix='x'):\n",
    "    \"\"\"AWS Comprehend sentiment API produces a probability that the sentiment is negative, neutral or positive.\"\"\"\n",
    "    cols = ['{}_{}'.format(cname, suffix) for cname in ['aws_neg_scores',  'aws_neu_scores', 'aws_pos_scores']]\n",
    "    return np.sum(np.multiply(df[cols].values, np.array([-1.0,0.0,1.0])), axis=1)"
   ]
  },
  {
   "cell_type": "code",
   "execution_count": 9,
   "metadata": {},
   "outputs": [],
   "source": [
    "_EMOTIONS = ['anger', 'sadness', 'joy', 'fear']"
   ]
  },
  {
   "cell_type": "code",
   "execution_count": 10,
   "metadata": {},
   "outputs": [],
   "source": [
    "_MAIN_COLUMNS = ['ID', 'Template', 'Emotion word', 'Emotion', 'Sentence', ]\n",
    "_MAIN_COLUMNS += ['aws_neg_scores','aws_pos_scores','aws_neu_scores', 'goog_scores']\n",
    "_GENDER_COLUMNS = _MAIN_COLUMNS + ['Gender']\n",
    "_RACE_COLUMNS = _MAIN_COLUMNS + ['Race']"
   ]
  },
  {
   "cell_type": "code",
   "execution_count": 11,
   "metadata": {},
   "outputs": [],
   "source": [
    "def test_gender_bias():\n",
    "    \"\"\"Calculate p-values for the gender pairings.\"\"\"\n",
    "    deltas = []\n",
    "    merge_cols = ['Template', 'Emotion word', 'Emotion']\n",
    "    male_probs_df = emotion_df[_GENDER_COLUMNS][emotion_df['Gender'] == 'male']\n",
    "    fem_probs_df = emotion_df[_GENDER_COLUMNS][emotion_df['Gender'] == 'female']\n",
    "    gender_probs_df = pds.merge(male_probs_df, fem_probs_df, on=merge_cols, how='inner')\n",
    "    gender_probs_df_filtered = gender_probs_df.drop_duplicates(subset=['ID_x'], inplace=False, keep='first').drop_duplicates(subset=['ID_y'], inplace=False, keep='first')\n",
    "    for emotion in _EMOTIONS:\n",
    "        em = gender_probs_df_filtered[(gender_probs_df_filtered['Emotion'] == emotion)]\n",
    "        male_scores = combine_aws_scores(em[em['Gender_x'] == 'male'], 'x')\n",
    "        fem_scores = combine_aws_scores(em[em['Gender_y'] == 'female'], 'y')\n",
    "        _, p = wilcoxon(male_scores, fem_scores)\n",
    "        delta = 0 if p > 0.05 else (fem_scores - male_scores).mean()\n",
    "        deltas.append({'Emotion': emotion, 'Platform': 'AWS', 'p-value': p, 'F-M': delta})\n",
    "        print('AWS emotion: {}, p-value : {}'.format(emotion, p))\n",
    "        male_scores = em[em['Gender_x'] == 'male']['goog_scores_x']\n",
    "        fem_scores = em[em['Gender_y'] == 'female']['goog_scores_y']\n",
    "        _, p = wilcoxon(male_scores, fem_scores)\n",
    "        print('Google emotion: {}, p-value : {}'.format(emotion, p))\n",
    "        delta = 0 if p > 0.05 else (fem_scores - male_scores).mean()\n",
    "        deltas.append({'Emotion': emotion, 'Platform': 'Google', 'p-value': p, 'F-M': delta})\n",
    "    return pds.DataFrame.from_dict(deltas)"
   ]
  },
  {
   "cell_type": "code",
   "execution_count": 12,
   "metadata": {},
   "outputs": [
    {
     "name": "stdout",
     "output_type": "stream",
     "text": [
      "AWS emotion: anger, p-value : 2.703123552440088e-07\n",
      "Google emotion: anger, p-value : 0.5961126657233238\n",
      "AWS emotion: sadness, p-value : 2.3807341815615703e-05\n",
      "Google emotion: sadness, p-value : 0.10247043485974937\n",
      "AWS emotion: joy, p-value : 2.4770276393652366e-07\n",
      "Google emotion: joy, p-value : 0.31731050786291415\n",
      "AWS emotion: fear, p-value : 9.762472038205343e-06\n",
      "Google emotion: fear, p-value : 0.0169473483375683\n"
     ]
    },
    {
     "name": "stderr",
     "output_type": "stream",
     "text": [
      "/home/charles/anaconda/envs/datasci/lib/python3.6/site-packages/scipy/stats/morestats.py:2388: UserWarning: Warning: sample size too small for normal approximation.\n",
      "  warnings.warn(\"Warning: sample size too small for normal approximation.\")\n"
     ]
    },
    {
     "data": {
      "text/html": [
       "<div>\n",
       "<style scoped>\n",
       "    .dataframe tbody tr th:only-of-type {\n",
       "        vertical-align: middle;\n",
       "    }\n",
       "\n",
       "    .dataframe tbody tr th {\n",
       "        vertical-align: top;\n",
       "    }\n",
       "\n",
       "    .dataframe thead th {\n",
       "        text-align: right;\n",
       "    }\n",
       "</style>\n",
       "<table border=\"1\" class=\"dataframe\">\n",
       "  <thead>\n",
       "    <tr style=\"text-align: right;\">\n",
       "      <th></th>\n",
       "      <th>Emotion</th>\n",
       "      <th>F-M</th>\n",
       "      <th>Platform</th>\n",
       "      <th>p-value</th>\n",
       "    </tr>\n",
       "  </thead>\n",
       "  <tbody>\n",
       "    <tr>\n",
       "      <th>0</th>\n",
       "      <td>anger</td>\n",
       "      <td>0.105363</td>\n",
       "      <td>AWS</td>\n",
       "      <td>2.703124e-07</td>\n",
       "    </tr>\n",
       "    <tr>\n",
       "      <th>1</th>\n",
       "      <td>anger</td>\n",
       "      <td>0.000000</td>\n",
       "      <td>Google</td>\n",
       "      <td>5.961127e-01</td>\n",
       "    </tr>\n",
       "    <tr>\n",
       "      <th>2</th>\n",
       "      <td>sadness</td>\n",
       "      <td>0.076079</td>\n",
       "      <td>AWS</td>\n",
       "      <td>2.380734e-05</td>\n",
       "    </tr>\n",
       "    <tr>\n",
       "      <th>3</th>\n",
       "      <td>sadness</td>\n",
       "      <td>0.000000</td>\n",
       "      <td>Google</td>\n",
       "      <td>1.024704e-01</td>\n",
       "    </tr>\n",
       "    <tr>\n",
       "      <th>4</th>\n",
       "      <td>joy</td>\n",
       "      <td>-0.102942</td>\n",
       "      <td>AWS</td>\n",
       "      <td>2.477028e-07</td>\n",
       "    </tr>\n",
       "    <tr>\n",
       "      <th>5</th>\n",
       "      <td>joy</td>\n",
       "      <td>0.000000</td>\n",
       "      <td>Google</td>\n",
       "      <td>3.173105e-01</td>\n",
       "    </tr>\n",
       "    <tr>\n",
       "      <th>6</th>\n",
       "      <td>fear</td>\n",
       "      <td>0.101574</td>\n",
       "      <td>AWS</td>\n",
       "      <td>9.762472e-06</td>\n",
       "    </tr>\n",
       "    <tr>\n",
       "      <th>7</th>\n",
       "      <td>fear</td>\n",
       "      <td>-0.020000</td>\n",
       "      <td>Google</td>\n",
       "      <td>1.694735e-02</td>\n",
       "    </tr>\n",
       "  </tbody>\n",
       "</table>\n",
       "</div>"
      ],
      "text/plain": [
       "   Emotion       F-M Platform       p-value\n",
       "0    anger  0.105363      AWS  2.703124e-07\n",
       "1    anger  0.000000   Google  5.961127e-01\n",
       "2  sadness  0.076079      AWS  2.380734e-05\n",
       "3  sadness  0.000000   Google  1.024704e-01\n",
       "4      joy -0.102942      AWS  2.477028e-07\n",
       "5      joy  0.000000   Google  3.173105e-01\n",
       "6     fear  0.101574      AWS  9.762472e-06\n",
       "7     fear -0.020000   Google  1.694735e-02"
      ]
     },
     "execution_count": 12,
     "metadata": {},
     "output_type": "execute_result"
    }
   ],
   "source": [
    "test_gender_bias()"
   ]
  },
  {
   "cell_type": "code",
   "execution_count": 13,
   "metadata": {},
   "outputs": [],
   "source": [
    "def test_racial_bias():\n",
    "    \"\"\"Calculate p-values for the racial pairings.\"\"\"\n",
    "    deltas = []\n",
    "    merge_cols = ['Template', 'Emotion word', 'Emotion']\n",
    "    aa_probs_df = emotion_df[_RACE_COLUMNS][emotion_df['Race'] == 'African-American']\n",
    "    eu_probs_df = emotion_df[_RACE_COLUMNS][emotion_df['Race'] == 'European']\n",
    "    race_probs_df = pds.merge(aa_probs_df, eu_probs_df, on=merge_cols, how='inner')\n",
    "    race_probs_df_filtered = race_probs_df.drop_duplicates(subset=['ID_x'], inplace=False, keep='first').drop_duplicates(subset=['ID_y'], inplace=False, keep='first')\n",
    "    for emotion in _EMOTIONS:\n",
    "        em = race_probs_df_filtered[(race_probs_df_filtered['Emotion'] == emotion)]\n",
    "        aa_scores = combine_aws_scores(em[em['Race_x'] == 'African-American'], 'x')\n",
    "        eu_scores = combine_aws_scores(em[em['Race_y'] == 'European'], 'y')\n",
    "        _, p = wilcoxon(aa_scores, eu_scores)\n",
    "        print('AWS emotion: {}, p-value : {}'.format(emotion, p))\n",
    "        delta = 0 if p > 0.05 else (aa_scores - eu_scores).mean()\n",
    "        deltas.append({'Emotion': emotion, 'Platform': 'AWS', 'p-value': p, 'B-W': delta})\n",
    "        aa_scores = em[em['Race_x'] == 'African-American']['goog_scores_x']\n",
    "        eu_scores = em[em['Race_y'] == 'European']['goog_scores_y']\n",
    "        _, p = wilcoxon(aa_scores, eu_scores)\n",
    "        print('Google emotion: {}, p-value : {}'.format(emotion, p))\n",
    "        delta = 0 if p > 0.05 else (aa_scores - eu_scores).mean()\n",
    "        deltas.append({'Emotion': emotion, 'Platform': 'Google', 'p-value': p, 'B-W': delta})\n",
    "    return pds.DataFrame.from_dict(deltas)"
   ]
  },
  {
   "cell_type": "code",
   "execution_count": 17,
   "metadata": {},
   "outputs": [
    {
     "name": "stdout",
     "output_type": "stream",
     "text": [
      "AWS emotion: anger, p-value : 2.703123552440088e-07\n",
      "Google emotion: anger, p-value : 7.957971565233185e-06\n",
      "AWS emotion: sadness, p-value : 6.660326758646149e-06\n",
      "Google emotion: sadness, p-value : 3.787249253316128e-06\n",
      "AWS emotion: joy, p-value : 2.4770276393652366e-07\n",
      "Google emotion: joy, p-value : 0.0003390212969694532\n",
      "AWS emotion: fear, p-value : 3.2924713208836836e-06\n",
      "Google emotion: fear, p-value : 0.026943676888349928\n"
     ]
    }
   ],
   "source": [
    "racial_bias_df = test_racial_bias()"
   ]
  },
  {
   "cell_type": "code",
   "execution_count": 4,
   "metadata": {},
   "outputs": [],
   "source": [
    "from matplotlib import pylab as plt"
   ]
  },
  {
   "cell_type": "code",
   "execution_count": 18,
   "metadata": {},
   "outputs": [
    {
     "data": {
      "text/html": [
       "<div>\n",
       "<style scoped>\n",
       "    .dataframe tbody tr th:only-of-type {\n",
       "        vertical-align: middle;\n",
       "    }\n",
       "\n",
       "    .dataframe tbody tr th {\n",
       "        vertical-align: top;\n",
       "    }\n",
       "\n",
       "    .dataframe thead th {\n",
       "        text-align: right;\n",
       "    }\n",
       "</style>\n",
       "<table border=\"1\" class=\"dataframe\">\n",
       "  <thead>\n",
       "    <tr style=\"text-align: right;\">\n",
       "      <th></th>\n",
       "      <th>B-W</th>\n",
       "      <th>Emotion</th>\n",
       "      <th>Platform</th>\n",
       "      <th>p-value</th>\n",
       "    </tr>\n",
       "  </thead>\n",
       "  <tbody>\n",
       "    <tr>\n",
       "      <th>0</th>\n",
       "      <td>-0.256898</td>\n",
       "      <td>anger</td>\n",
       "      <td>AWS</td>\n",
       "      <td>2.703124e-07</td>\n",
       "    </tr>\n",
       "    <tr>\n",
       "      <th>2</th>\n",
       "      <td>-0.173752</td>\n",
       "      <td>sadness</td>\n",
       "      <td>AWS</td>\n",
       "      <td>6.660327e-06</td>\n",
       "    </tr>\n",
       "    <tr>\n",
       "      <th>4</th>\n",
       "      <td>0.210713</td>\n",
       "      <td>joy</td>\n",
       "      <td>AWS</td>\n",
       "      <td>2.477028e-07</td>\n",
       "    </tr>\n",
       "    <tr>\n",
       "      <th>6</th>\n",
       "      <td>-0.223511</td>\n",
       "      <td>fear</td>\n",
       "      <td>AWS</td>\n",
       "      <td>3.292471e-06</td>\n",
       "    </tr>\n",
       "  </tbody>\n",
       "</table>\n",
       "</div>"
      ],
      "text/plain": [
       "        B-W  Emotion Platform       p-value\n",
       "0 -0.256898    anger      AWS  2.703124e-07\n",
       "2 -0.173752  sadness      AWS  6.660327e-06\n",
       "4  0.210713      joy      AWS  2.477028e-07\n",
       "6 -0.223511     fear      AWS  3.292471e-06"
      ]
     },
     "execution_count": 18,
     "metadata": {},
     "output_type": "execute_result"
    }
   ],
   "source": [
    "racial_bias_df[racial_bias_df['Platform'] == 'AWS']"
   ]
  },
  {
   "cell_type": "code",
   "execution_count": 41,
   "metadata": {},
   "outputs": [
    {
     "data": {
      "text/plain": [
       "[Text(0, 0, 'anger'),\n",
       " Text(0, 0, 'sadness'),\n",
       " Text(0, 0, 'joy'),\n",
       " Text(0, 0, 'fear')]"
      ]
     },
     "execution_count": 41,
     "metadata": {},
     "output_type": "execute_result"
    },
    {
     "data": {
      "image/png": "[encoded data removed]",
      "text/plain": [
       "<Figure size 720x216 with 1 Axes>"
      ]
     },
     "metadata": {
      "needs_background": "light"
     },
     "output_type": "display_data"
    }
   ],
   "source": [
    "fig, ax = plt.subplots(figsize=(10,3), )\n",
    "sns.despine(ax=ax, bottom=True, left=True)\n",
    "racial_bias_df[racial_bias_df['Platform'] == 'AWS'][['Emotion','B-W']].plot(ax=ax, kind='barh', color=['orange', 'blue'], stacked=True)\n",
    "ax.yaxis.set_ticklabels(['anger', 'sadness', 'joy', 'fear'])"
   ]
  },
  {
   "cell_type": "code",
   "execution_count": null,
   "metadata": {},
   "outputs": [],
   "source": [
    "fig, ax = plt.subplots(figsize=(10,3), )\n",
    "sns.despine(ax=ax, bottom=True, left=True)\n",
    "racial_bias_df[racial_bias_df['Platform'] == 'AWS'][['Emotion','B-W']].scatter(ax=ax, kind='barh', color=['orange', 'blue'], stacked=True)\n",
    "ax.yaxis.set_ticklabels(['anger', 'sadness', 'joy', 'fear'])"
   ]
  },
  {
   "cell_type": "code",
   "execution_count": null,
   "metadata": {},
   "outputs": [],
   "source": []
  },
  {
   "cell_type": "code",
   "execution_count": 47,
   "metadata": {},
   "outputs": [
    {
     "data": {
      "text/plain": [
       "<matplotlib.axes._subplots.AxesSubplot at 0x7faa7ace1198>"
      ]
     },
     "execution_count": 47,
     "metadata": {},
     "output_type": "execute_result"
    },
    {
     "data": {
      "image/png": "[encoded data removed]",
      "text/plain": [
       "<Figure size 720x216 with 2 Axes>"
      ]
     },
     "metadata": {
      "needs_background": "light"
     },
     "output_type": "display_data"
    }
   ],
   "source": [
    "fig, ax = plt.subplots(figsize=(10,3), nrows=2, sharex=True)\n",
    "sns.stripplot(data=racial_bias_df[racial_bias_df['Platform'] == 'AWS'][['Emotion','B-W']], y=\"Emotion\", x=\"B-W\", ax=ax[0])\n",
    "sns.stripplot(data=gender_bias_df[gender_bias_df['Platform'] == 'AWS'][['Emotion','F-M']], y=\"Emotion\", x=\"F-M\", ax=ax[1])\n"
   ]
  },
  {
   "cell_type": "code",
   "execution_count": 38,
   "metadata": {},
   "outputs": [],
   "source": [
    "import seaborn as sns"
   ]
  },
  {
   "cell_type": "code",
   "execution_count": 39,
   "metadata": {},
   "outputs": [
    {
     "data": {
      "text/plain": [
       "[Text(0, 0, 'anger'),\n",
       " Text(0, 0, 'sadness'),\n",
       " Text(0, 0, 'joy'),\n",
       " Text(0, 0, 'fear')]"
      ]
     },
     "execution_count": 39,
     "metadata": {},
     "output_type": "execute_result"
    },
    {
     "data": {
      "image/png": "[encoded data removed]",
      "text/plain": [
       "<Figure size 720x216 with 1 Axes>"
      ]
     },
     "metadata": {
      "needs_background": "light"
     },
     "output_type": "display_data"
    }
   ],
   "source": [
    "fig, ax = plt.subplots(figsize=(10,3), )\n",
    "sns.despine(ax=ax, bottom=True, left=True)\n",
    "racial_bias_df[racial_bias_df['Platform'] == 'Google'][['Emotion','B-W']].plot(ax=ax, kind='barh', color=['orange', 'blue'], stacked=True)\n",
    "ax.yaxis.set_ticklabels(['anger', 'sadness', 'joy', 'fear'])"
   ]
  },
  {
   "cell_type": "code",
   "execution_count": 42,
   "metadata": {},
   "outputs": [
    {
     "name": "stdout",
     "output_type": "stream",
     "text": [
      "AWS emotion: anger, p-value : 2.703123552440088e-07\n",
      "Google emotion: anger, p-value : 0.5961126657233238\n",
      "AWS emotion: sadness, p-value : 2.3807341815615703e-05\n",
      "Google emotion: sadness, p-value : 0.10247043485974937\n",
      "AWS emotion: joy, p-value : 2.4770276393652366e-07\n",
      "Google emotion: joy, p-value : 0.31731050786291415\n",
      "AWS emotion: fear, p-value : 9.762472038205343e-06\n",
      "Google emotion: fear, p-value : 0.0169473483375683\n"
     ]
    },
    {
     "name": "stderr",
     "output_type": "stream",
     "text": [
      "/home/charles/anaconda/envs/datasci/lib/python3.6/site-packages/scipy/stats/morestats.py:2388: UserWarning: Warning: sample size too small for normal approximation.\n",
      "  warnings.warn(\"Warning: sample size too small for normal approximation.\")\n",
      "/home/charles/anaconda/envs/datasci/lib/python3.6/site-packages/scipy/stats/morestats.py:2388: UserWarning: Warning: sample size too small for normal approximation.\n",
      "  warnings.warn(\"Warning: sample size too small for normal approximation.\")\n",
      "/home/charles/anaconda/envs/datasci/lib/python3.6/site-packages/scipy/stats/morestats.py:2388: UserWarning: Warning: sample size too small for normal approximation.\n",
      "  warnings.warn(\"Warning: sample size too small for normal approximation.\")\n",
      "/home/charles/anaconda/envs/datasci/lib/python3.6/site-packages/scipy/stats/morestats.py:2388: UserWarning: Warning: sample size too small for normal approximation.\n",
      "  warnings.warn(\"Warning: sample size too small for normal approximation.\")\n"
     ]
    }
   ],
   "source": [
    "gender_bias_df = test_gender_bias()"
   ]
  },
  {
   "cell_type": "code",
   "execution_count": 43,
   "metadata": {},
   "outputs": [
    {
     "data": {
      "text/plain": [
       "[Text(0, 0, 'anger'),\n",
       " Text(0, 0, 'sadness'),\n",
       " Text(0, 0, 'joy'),\n",
       " Text(0, 0, 'fear')]"
      ]
     },
     "execution_count": 43,
     "metadata": {},
     "output_type": "execute_result"
    },
    {
     "data": {
      "image/png": "[encoded data removed]",
      "text/plain": [
       "<Figure size 720x216 with 1 Axes>"
      ]
     },
     "metadata": {
      "needs_background": "light"
     },
     "output_type": "display_data"
    }
   ],
   "source": [
    "fig, ax = plt.subplots(figsize=(10,3), )\n",
    "sns.despine(ax=ax, bottom=True, left=True)\n",
    "gender_bias_df[gender_bias_df['Platform'] == 'AWS'][['Emotion','F-M']].plot(ax=ax, kind='barh', color=['orange', 'blue'], stacked=True)\n",
    "ax.yaxis.set_ticklabels(['anger', 'sadness', 'joy', 'fear'])"
   ]
  },
  {
   "cell_type": "code",
   "execution_count": 44,
   "metadata": {},
   "outputs": [
    {
     "data": {
      "text/plain": [
       "[Text(0, 0, 'anger'),\n",
       " Text(0, 0, 'sadness'),\n",
       " Text(0, 0, 'joy'),\n",
       " Text(0, 0, 'fear')]"
      ]
     },
     "execution_count": 44,
     "metadata": {},
     "output_type": "execute_result"
    },
    {
     "data": {
      "image/png": "[encoded data removed]",
      "text/plain": [
       "<Figure size 720x216 with 1 Axes>"
      ]
     },
     "metadata": {
      "needs_background": "light"
     },
     "output_type": "display_data"
    }
   ],
   "source": [
    "fig, ax = plt.subplots(figsize=(10,3), )\n",
    "sns.despine(ax=ax, bottom=True, left=True)\n",
    "gender_bias_df[gender_bias_df['Platform'] == 'Google'][['Emotion','F-M']].plot(ax=ax, kind='barh', color=['orange', 'blue'], stacked=True)\n",
    "ax.yaxis.set_ticklabels(['anger', 'sadness', 'joy', 'fear'])"
   ]
  },
  {
   "cell_type": "code",
   "execution_count": 158,
   "metadata": {},
   "outputs": [],
   "source": [
    "def create_racial_bias_df():\n",
    "    \"\"\"Calculate p-values for the racial pairings, and put in a uniform data frame.\"\"\"\n",
    "    deltas = []\n",
    "    frames = []\n",
    "    fig, axes = plt.subplots(1, len(_EMOTIONS), figsize=(18,4), sharey=True)\n",
    "    merge_cols = ['Template', 'Emotion word', 'Emotion']\n",
    "    aa_probs_df = emotion_df[_RACE_COLUMNS][emotion_df['Race'] == 'African-American']\n",
    "    eu_probs_df = emotion_df[_RACE_COLUMNS][emotion_df['Race'] == 'European']\n",
    "    race_probs_df = pds.merge(aa_probs_df, eu_probs_df, on=merge_cols, how='inner')\n",
    "    race_probs_df_filtered = race_probs_df.drop_duplicates(subset=['ID_x'], inplace=False, keep='first').drop_duplicates(subset=['ID_y'], inplace=False, keep='first')\n",
    "    for idx, emotion in enumerate(_EMOTIONS):\n",
    "        ax = axes[idx]\n",
    "        em = race_probs_df_filtered[(race_probs_df_filtered['Emotion'] == emotion)]\n",
    "        print (len(em))\n",
    "        display_df = pds.DataFrame(index=range(0, 2*len(em)), columns=['Race', 'Score', 'Emotion'])\n",
    "        print(len(display_df))\n",
    "        aa_scores = combine_aws_scores(em[em['Race_x'] == 'African-American'], 'x')\n",
    "        display_df.loc[:len(aa_scores)-1, 'Score'] = aa_scores\n",
    "        display_df.loc[:len(aa_scores)-1, 'Race'] =  'African-American'\n",
    "        eu_scores = combine_aws_scores(em[em['Race_y'] == 'European'], 'y')\n",
    "        display_df.loc[len(aa_scores):, 'Score'] = eu_scores\n",
    "        display_df['Score'] = display_df['Score'].astype(float)\n",
    "        display_df.loc[len(aa_scores):, 'Race'] =  'European'\n",
    "        display_df.loc[:, 'Emotion'] = emotion\n",
    "        frames.append(display_df)\n",
    "        \n",
    "        _, p = wilcoxon(aa_scores, eu_scores)\n",
    "        print('AWS emotion: {}, p-value : {}'.format(emotion, p))\n",
    "        y_max = np.max(np.concatenate((aa_scores, eu_scores)))\n",
    "        y_min = np.min(np.concatenate((aa_scores, eu_scores)))\n",
    "        sns.boxplot(data=display_df, x='Race', y='Score', ax=ax)\n",
    "        print (y_max)\n",
    "        ax.annotate(\"\", xy=(0, y_max), xycoords='data',\n",
    "                    xytext=(1, y_max), textcoords='data',\n",
    "                    arrowprops=dict(arrowstyle=\"-\", ec='#aaaaaa',\n",
    "                                    connectionstyle=\"bar,fraction=0.2\"))\n",
    "        ax.text(0, y_max + .3, stars(p),\n",
    "                horizontalalignment='left',\n",
    "                verticalalignment='center')\n",
    "        ax.set_xlabel(emotion, )\n",
    "        if idx == 0:\n",
    "            ax.set_ylabel('Score', rotation=0,)\n",
    "        else:\n",
    "             ax.set_ylabel('', rotation=0,)\n",
    "        delta = (aa_scores - eu_scores).mean()\n",
    "        deltas.append({'Emotion': emotion, 'Platform': 'AWS', 'p-value': p, 'Disparity': 'Black/White', 'delta': delta})\n",
    "        aa_scores = em[em['Race_x'] == 'African-American']['goog_scores_x']\n",
    "        eu_scores = em[em['Race_y'] == 'European']['goog_scores_y']\n",
    "        _, p = wilcoxon(aa_scores, eu_scores)\n",
    "        print('Google emotion: {}, p-value : {}'.format(emotion, p))\n",
    "        delta = 0 if p > 0.05 else (aa_scores - eu_scores).mean()\n",
    "        deltas.append({'Emotion': emotion, 'Platform': 'Google', 'p-value': p, 'Disparity': 'Black/White', 'delta': delta})\n",
    "    \n",
    "    combined_data = pds.concat(frames, ignore_index=True)\n",
    "    combined_data['Score'] = combined_data['Score'].astype(float)\n",
    "    #sns.boxplot(data=combined_data, x='Emotion', y='Score', hue='Race')\n",
    "    #sns.swarmplot(data=combined_data, x='Emotion', y='Score', hue='Race')\n",
    "    return combined_data, pds.DataFrame.from_dict(deltas)"
   ]
  },
  {
   "cell_type": "code",
   "execution_count": 144,
   "metadata": {},
   "outputs": [],
   "source": [
    "def stars(p):\n",
    "    if (p < 0.05):\n",
    "        return \"p < 0.05 !\"\n",
    "    else:\n",
    "        return \"No significant difference\""
   ]
  },
  {
   "cell_type": "code",
   "execution_count": 159,
   "metadata": {},
   "outputs": [
    {
     "name": "stdout",
     "output_type": "stream",
     "text": [
      "35\n",
      "70\n",
      "AWS emotion: anger, p-value : 2.703123552440088e-07\n",
      "-0.006394091993570335\n",
      "Google emotion: anger, p-value : 7.957971565233185e-06\n",
      "35\n",
      "70\n",
      "AWS emotion: sadness, p-value : 6.660326758646149e-06\n",
      "0.261255856603384\n",
      "Google emotion: sadness, p-value : 3.787249253316128e-06\n",
      "35\n",
      "70\n",
      "AWS emotion: joy, p-value : 2.4770276393652366e-07\n",
      "0.9861858364311046\n",
      "Google emotion: joy, p-value : 0.0003390212969694532\n",
      "35\n",
      "70\n",
      "AWS emotion: fear, p-value : 3.2924713208836836e-06\n",
      "0.3010863810777664\n",
      "Google emotion: fear, p-value : 0.026943676888349928\n"
     ]
    },
    {
     "data": {
      "image/png": "[encoded data removed]",
      "text/plain": [
       "<Figure size 1296x288 with 4 Axes>"
      ]
     },
     "metadata": {
      "needs_background": "light"
     },
     "output_type": "display_data"
    }
   ],
   "source": [
    "combined_data, racial_bias_uniform_df = create_racial_bias_df()"
   ]
  },
  {
   "cell_type": "code",
   "execution_count": 89,
   "metadata": {},
   "outputs": [
    {
     "data": {
      "text/plain": [
       "35"
      ]
     },
     "execution_count": 89,
     "metadata": {},
     "output_type": "execute_result"
    }
   ],
   "source": [
    "len(combined_data[(combined_data['Race'] == 'European' ) & (combined_data['Emotion'] == 'anger' )])"
   ]
  },
  {
   "cell_type": "code",
   "execution_count": 107,
   "metadata": {},
   "outputs": [
    {
     "data": {
      "text/plain": [
       "<matplotlib.axes._subplots.AxesSubplot at 0x7faa766bb860>"
      ]
     },
     "execution_count": 107,
     "metadata": {},
     "output_type": "execute_result"
    },
    {
     "data": {
      "image/png": "[encoded data removed]",
      "text/plain": [
       "<Figure size 432x288 with 1 Axes>"
      ]
     },
     "metadata": {
      "needs_background": "light"
     },
     "output_type": "display_data"
    }
   ],
   "source": [
    "sns.boxplot(data=combined_data[combined_data['Race'] == 'European'], y='Score', )"
   ]
  },
  {
   "cell_type": "code",
   "execution_count": 56,
   "metadata": {},
   "outputs": [
    {
     "data": {
      "text/plain": [
       "<matplotlib.axes._subplots.AxesSubplot at 0x7faa79a9cfd0>"
      ]
     },
     "execution_count": 56,
     "metadata": {},
     "output_type": "execute_result"
    },
    {
     "data": {
      "image/png": "[encoded data removed]",
      "text/plain": [
       "<Figure size 432x288 with 1 Axes>"
      ]
     },
     "metadata": {
      "needs_background": "light"
     },
     "output_type": "display_data"
    }
   ],
   "source": [
    "sns.stripplot(data=racial_bias_uniform_df[['Emotion','delta', 'Platform']], y=\"Emotion\", x=\"delta\", hue='Platform', )"
   ]
  },
  {
   "cell_type": "code",
   "execution_count": null,
   "metadata": {},
   "outputs": [],
   "source": [
    "emotion_aws = racial_bias_uniform_df[racial_bias_uniform_df['Emotion'] ]"
   ]
  },
  {
   "cell_type": "code",
   "execution_count": 61,
   "metadata": {},
   "outputs": [
    {
     "data": {
      "text/plain": [
       "<matplotlib.axes._subplots.AxesSubplot at 0x7faa79369048>"
      ]
     },
     "execution_count": 61,
     "metadata": {},
     "output_type": "execute_result"
    },
    {
     "data": {
      "image/png": "[encoded data removed]",
      "text/plain": [
       "<Figure size 432x288 with 1 Axes>"
      ]
     },
     "metadata": {
      "needs_background": "light"
     },
     "output_type": "display_data"
    }
   ],
   "source": [
    "sns.boxplot(data=racial_bias_uniform_df[['Emotion','delta', 'Platform']], y=\"Emotion\", x=\"delta\", hue='Platform', )"
   ]
  },
  {
   "cell_type": "code",
   "execution_count": 64,
   "metadata": {},
   "outputs": [],
   "source": [
    "columns = ['gender','emotion', 'score']\n",
    "test_df = pds.DataFrame(index=range(0,10), columns=columns)"
   ]
  },
  {
   "cell_type": "code",
   "execution_count": 68,
   "metadata": {},
   "outputs": [],
   "source": [
    "test_df.loc[0:5,'gender'] = 'FeMale'"
   ]
  },
  {
   "cell_type": "code",
   "execution_count": 69,
   "metadata": {},
   "outputs": [
    {
     "data": {
      "text/html": [
       "<div>\n",
       "<style scoped>\n",
       "    .dataframe tbody tr th:only-of-type {\n",
       "        vertical-align: middle;\n",
       "    }\n",
       "\n",
       "    .dataframe tbody tr th {\n",
       "        vertical-align: top;\n",
       "    }\n",
       "\n",
       "    .dataframe thead th {\n",
       "        text-align: right;\n",
       "    }\n",
       "</style>\n",
       "<table border=\"1\" class=\"dataframe\">\n",
       "  <thead>\n",
       "    <tr style=\"text-align: right;\">\n",
       "      <th></th>\n",
       "      <th>gender</th>\n",
       "      <th>emotion</th>\n",
       "      <th>score</th>\n",
       "    </tr>\n",
       "  </thead>\n",
       "  <tbody>\n",
       "    <tr>\n",
       "      <th>0</th>\n",
       "      <td>FeMale</td>\n",
       "      <td>NaN</td>\n",
       "      <td>NaN</td>\n",
       "    </tr>\n",
       "    <tr>\n",
       "      <th>1</th>\n",
       "      <td>FeMale</td>\n",
       "      <td>NaN</td>\n",
       "      <td>NaN</td>\n",
       "    </tr>\n",
       "    <tr>\n",
       "      <th>2</th>\n",
       "      <td>FeMale</td>\n",
       "      <td>NaN</td>\n",
       "      <td>NaN</td>\n",
       "    </tr>\n",
       "    <tr>\n",
       "      <th>3</th>\n",
       "      <td>FeMale</td>\n",
       "      <td>NaN</td>\n",
       "      <td>NaN</td>\n",
       "    </tr>\n",
       "    <tr>\n",
       "      <th>4</th>\n",
       "      <td>FeMale</td>\n",
       "      <td>NaN</td>\n",
       "      <td>NaN</td>\n",
       "    </tr>\n",
       "    <tr>\n",
       "      <th>5</th>\n",
       "      <td>FeMale</td>\n",
       "      <td>NaN</td>\n",
       "      <td>NaN</td>\n",
       "    </tr>\n",
       "    <tr>\n",
       "      <th>6</th>\n",
       "      <td>Male</td>\n",
       "      <td>NaN</td>\n",
       "      <td>NaN</td>\n",
       "    </tr>\n",
       "    <tr>\n",
       "      <th>7</th>\n",
       "      <td>Male</td>\n",
       "      <td>NaN</td>\n",
       "      <td>NaN</td>\n",
       "    </tr>\n",
       "    <tr>\n",
       "      <th>8</th>\n",
       "      <td>Male</td>\n",
       "      <td>NaN</td>\n",
       "      <td>NaN</td>\n",
       "    </tr>\n",
       "    <tr>\n",
       "      <th>9</th>\n",
       "      <td>Male</td>\n",
       "      <td>NaN</td>\n",
       "      <td>NaN</td>\n",
       "    </tr>\n",
       "  </tbody>\n",
       "</table>\n",
       "</div>"
      ],
      "text/plain": [
       "   gender emotion score\n",
       "0  FeMale     NaN   NaN\n",
       "1  FeMale     NaN   NaN\n",
       "2  FeMale     NaN   NaN\n",
       "3  FeMale     NaN   NaN\n",
       "4  FeMale     NaN   NaN\n",
       "5  FeMale     NaN   NaN\n",
       "6    Male     NaN   NaN\n",
       "7    Male     NaN   NaN\n",
       "8    Male     NaN   NaN\n",
       "9    Male     NaN   NaN"
      ]
     },
     "execution_count": 69,
     "metadata": {},
     "output_type": "execute_result"
    }
   ],
   "source": [
    "test_df"
   ]
  },
  {
   "cell_type": "code",
   "execution_count": null,
   "metadata": {},
   "outputs": [],
   "source": []
  }
 ],
 "metadata": {
  "kernelspec": {
   "display_name": "Python 3",
   "language": "python",
   "name": "python3"
  },
  "language_info": {
   "codemirror_mode": {
    "name": "ipython",
    "version": 3
   },
   "file_extension": ".py",
   "mimetype": "text/x-python",
   "name": "python",
   "nbconvert_exporter": "python",
   "pygments_lexer": "ipython3",
   "version": "3.6.7"
  }
 },
 "nbformat": 4,
 "nbformat_minor": 2
}
