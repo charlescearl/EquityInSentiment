{
 "cells": [
  {
   "cell_type": "markdown",
   "metadata": {},
   "source": [
    "In this notebook, we evaluate the gender and emotion word bias for AWS and Google sentiment APIs using  of the emotion words using the corpus defined in https://saifmohammad.com/WebPages/Biases-SA.html.\n",
    "We use a paired Wilcoxon signed-rank test."
   ]
  },
  {
   "cell_type": "code",
   "execution_count": 2,
   "metadata": {},
   "outputs": [],
   "source": [
    "import pandas as pds\n",
    "import numpy as np\n",
    "from scipy.stats import wilcoxon, ttest_ind\n",
    "import seaborn as sns"
   ]
  },
  {
   "cell_type": "code",
   "execution_count": 3,
   "metadata": {},
   "outputs": [],
   "source": [
    "_AWS_GOOGLE_SCORE_DF_FILE = './data/complete_set_sentiment_scores.csv'"
   ]
  },
  {
   "cell_type": "code",
   "execution_count": 4,
   "metadata": {},
   "outputs": [],
   "source": [
    "emotion_df = pds.read_csv(_AWS_GOOGLE_SCORE_DF_FILE)"
   ]
  },
  {
   "cell_type": "code",
   "execution_count": 5,
   "metadata": {},
   "outputs": [
    {
     "data": {
      "text/html": [
       "<div>\n",
       "<style scoped>\n",
       "    .dataframe tbody tr th:only-of-type {\n",
       "        vertical-align: middle;\n",
       "    }\n",
       "\n",
       "    .dataframe tbody tr th {\n",
       "        vertical-align: top;\n",
       "    }\n",
       "\n",
       "    .dataframe thead th {\n",
       "        text-align: right;\n",
       "    }\n",
       "</style>\n",
       "<table border=\"1\" class=\"dataframe\">\n",
       "  <thead>\n",
       "    <tr style=\"text-align: right;\">\n",
       "      <th></th>\n",
       "      <th>idx</th>\n",
       "      <th>ID</th>\n",
       "      <th>Sentence</th>\n",
       "      <th>Template</th>\n",
       "      <th>Person</th>\n",
       "      <th>Gender</th>\n",
       "      <th>Race</th>\n",
       "      <th>Emotion</th>\n",
       "      <th>Emotion word</th>\n",
       "      <th>goog_scores</th>\n",
       "      <th>aws_neg_scores</th>\n",
       "      <th>aws_pos_scores</th>\n",
       "      <th>aws_neu_scores</th>\n",
       "      <th>aws_mix_scores</th>\n",
       "      <th>aws_combined</th>\n",
       "    </tr>\n",
       "  </thead>\n",
       "  <tbody>\n",
       "    <tr>\n",
       "      <th>0</th>\n",
       "      <td>0</td>\n",
       "      <td>2018-En-mystery-05498</td>\n",
       "      <td>Alonzo feels angry.</td>\n",
       "      <td>&lt;person subject&gt; feels &lt;emotion word&gt;.</td>\n",
       "      <td>Alonzo</td>\n",
       "      <td>male</td>\n",
       "      <td>African-American</td>\n",
       "      <td>anger</td>\n",
       "      <td>angry</td>\n",
       "      <td>0.0</td>\n",
       "      <td>0.881573</td>\n",
       "      <td>0.011329</td>\n",
       "      <td>0.095531</td>\n",
       "      <td>0.011568</td>\n",
       "      <td>-1</td>\n",
       "    </tr>\n",
       "    <tr>\n",
       "      <th>1</th>\n",
       "      <td>1</td>\n",
       "      <td>2018-En-mystery-11722</td>\n",
       "      <td>Alonzo feels furious.</td>\n",
       "      <td>&lt;person subject&gt; feels &lt;emotion word&gt;.</td>\n",
       "      <td>Alonzo</td>\n",
       "      <td>male</td>\n",
       "      <td>African-American</td>\n",
       "      <td>anger</td>\n",
       "      <td>furious</td>\n",
       "      <td>0.1</td>\n",
       "      <td>0.798154</td>\n",
       "      <td>0.028035</td>\n",
       "      <td>0.159113</td>\n",
       "      <td>0.014699</td>\n",
       "      <td>-1</td>\n",
       "    </tr>\n",
       "  </tbody>\n",
       "</table>\n",
       "</div>"
      ],
      "text/plain": [
       "   idx                     ID               Sentence  \\\n",
       "0    0  2018-En-mystery-05498    Alonzo feels angry.   \n",
       "1    1  2018-En-mystery-11722  Alonzo feels furious.   \n",
       "\n",
       "                                 Template  Person Gender              Race  \\\n",
       "0  <person subject> feels <emotion word>.  Alonzo   male  African-American   \n",
       "1  <person subject> feels <emotion word>.  Alonzo   male  African-American   \n",
       "\n",
       "  Emotion Emotion word  goog_scores  aws_neg_scores  aws_pos_scores  \\\n",
       "0   anger        angry          0.0        0.881573        0.011329   \n",
       "1   anger      furious          0.1        0.798154        0.028035   \n",
       "\n",
       "   aws_neu_scores  aws_mix_scores  aws_combined  \n",
       "0        0.095531        0.011568            -1  \n",
       "1        0.159113        0.014699            -1  "
      ]
     },
     "execution_count": 5,
     "metadata": {},
     "output_type": "execute_result"
    }
   ],
   "source": [
    "emotion_df[:2]"
   ]
  },
  {
   "cell_type": "code",
   "execution_count": 6,
   "metadata": {},
   "outputs": [
    {
     "data": {
      "text/plain": [
       "8640"
      ]
     },
     "execution_count": 6,
     "metadata": {},
     "output_type": "execute_result"
    }
   ],
   "source": [
    "len(emotion_df)"
   ]
  },
  {
   "cell_type": "code",
   "execution_count": 7,
   "metadata": {},
   "outputs": [],
   "source": [
    "def combine_aws_scores(df, suffix='x'):\n",
    "    \"\"\"AWS Comprehend sentiment API produces a probability that the sentiment is negative, neutral or positive.\"\"\"\n",
    "    cols = ['{}_{}'.format(cname, suffix) for cname in ['aws_neg_scores',  'aws_neu_scores', 'aws_pos_scores']]\n",
    "    return np.sum(np.multiply(df[cols].values, np.array([-1.0,0.0,1.0])), axis=1)"
   ]
  },
  {
   "cell_type": "code",
   "execution_count": 8,
   "metadata": {},
   "outputs": [],
   "source": [
    "_EMOTIONS = ['anger', 'sadness', 'joy', 'fear']"
   ]
  },
  {
   "cell_type": "code",
   "execution_count": 9,
   "metadata": {},
   "outputs": [],
   "source": [
    "_MAIN_COLUMNS = ['ID', 'Template', 'Emotion word', 'Emotion', 'Sentence', ]\n",
    "_MAIN_COLUMNS += ['aws_neg_scores','aws_pos_scores','aws_neu_scores', 'goog_scores']\n",
    "_GENDER_COLUMNS = _MAIN_COLUMNS + ['Gender']\n",
    "_RACE_COLUMNS = _MAIN_COLUMNS + ['Race']"
   ]
  },
  {
   "cell_type": "code",
   "execution_count": 10,
   "metadata": {},
   "outputs": [],
   "source": [
    "from matplotlib import pylab as plt"
   ]
  },
  {
   "cell_type": "code",
   "execution_count": 11,
   "metadata": {},
   "outputs": [],
   "source": [
    "def stars(p):\n",
    "    if (p < 0.05):\n",
    "        return \"p < 0.05 !\"\n",
    "    else:\n",
    "        return \"No significant difference\""
   ]
  },
  {
   "cell_type": "code",
   "execution_count": 69,
   "metadata": {},
   "outputs": [],
   "source": [
    "def create_bias_df(basis):\n",
    "    \"\"\"Calculate p-values for the racial pairings, and put in a uniform data frame.\"\"\"\n",
    "    deltas = []\n",
    "    frames = []\n",
    "    gframes = []\n",
    "    fig, axes = plt.subplots(2, 1, figsize=(12,6), sharex=True)\n",
    "    merge_cols = ['Template', 'Emotion word', 'Emotion']\n",
    "    cols = _RACE_COLUMNS if basis == 'Race' else _GENDER_COLUMNS\n",
    "    affected_class = 'African-American' if basis == 'Race' else 'female'\n",
    "    impacting_class = 'European' if basis == 'Race' else 'male'\n",
    "    ac_probs_df = emotion_df[cols][emotion_df[basis] == affected_class]\n",
    "    ic_probs_df = emotion_df[cols][emotion_df[basis] == impacting_class]\n",
    "    probs_df = pds.merge(ac_probs_df, ic_probs_df, on=merge_cols, how='inner')\n",
    "    probs_df = probs_df[probs_df['Emotion word'].notnull()]\n",
    "    probs_df_filtered = probs_df.drop_duplicates(subset=['ID_x'], inplace=False, keep='first').drop_duplicates(subset=['ID_y'], inplace=False, keep='first')\n",
    "    for idx, emotion in enumerate(_EMOTIONS):\n",
    "        #ax = axes[idx]\n",
    "        em = probs_df_filtered[(probs_df_filtered['Emotion'] == emotion)]\n",
    "        columns=[basis, 'AWS Score', 'Google Score', 'Emotion']\n",
    "    \n",
    "        display_df = pds.DataFrame(index=range(0, 2*len(em)), )\n",
    "        aa_scores = combine_aws_scores(em[em[f'{basis}_x'] == affected_class], 'x')\n",
    "        print(f\"Length of affected_class: {len(aa_scores)}\")\n",
    "        display_df.loc[:len(aa_scores)-1, 'AWS Score'] = aa_scores\n",
    "        display_df.loc[:len(aa_scores)-1, basis] =  affected_class\n",
    "        eu_scores = combine_aws_scores(em[em[f'{basis}_y'] == impacting_class], 'y')\n",
    "        print(f\"Length of impacting_class: {len(eu_scores)}\")\n",
    "        display_df.loc[len(aa_scores):, 'AWS Score'] = eu_scores\n",
    "        display_df['AWS Score'] = display_df['AWS Score'].astype(float)\n",
    "        display_df.loc[len(aa_scores):, basis] =  impacting_class\n",
    "        display_df.loc[:, 'Emotion'] = emotion\n",
    "        _, p = wilcoxon(aa_scores, eu_scores, )\n",
    "        print('AWS emotion: {}, p-value (Wilcoxon) : {:.5f}'.format(emotion, p))\n",
    "        delta = (aa_scores - eu_scores).mean()\n",
    "        disparity = f'{affected_class}/{impacting_class}'\n",
    "        deltas.append({'Emotion': emotion, 'Platform': 'AWS', 'p-value': p, 'Disparity': disparity, 'delta': delta})\n",
    "        \n",
    "        \n",
    "        aa_scores = em[em[f'{basis}_x'] == affected_class]['goog_scores_x']\n",
    "        display_df.loc[:len(aa_scores)-1, 'Google Score'] = aa_scores.values\n",
    "        display_df.loc[:len(aa_scores)-1, basis] =  affected_class\n",
    "        eu_scores = em[em[f'{basis}_y'] == impacting_class]['goog_scores_y']\n",
    "        display_df.loc[len(aa_scores):, 'Google Score'] = eu_scores.values\n",
    "        display_df['Google Score'] = display_df['Google Score'].astype(float)\n",
    "        display_df.loc[len(aa_scores):, basis] =  impacting_class\n",
    "        display_df.loc[:, 'Emotion'] = emotion\n",
    "        _, p = wilcoxon(aa_scores, eu_scores, )\n",
    "        print('Google emotion: {}, p-value (Wilcoxon) : {:.5f}'.format(emotion, p))\n",
    "        delta = 0 if p > 0.05 else (aa_scores - eu_scores).mean()\n",
    "        deltas.append({'Emotion': emotion, 'Platform': 'Google', 'p-value': p, 'Disparity': disparity, 'delta': delta})\n",
    "\n",
    "        frames.append(display_df)\n",
    "        \n",
    "        # y_max = np.max(np.concatenate((aa_scores, eu_scores)))\n",
    "        # y_min = np.min(np.concatenate((aa_scores, eu_scores)))\n",
    "        #sns.boxplot(data=display_df, x='Race', y='Score', ax=ax)\n",
    "        # print (y_max)\n",
    "        #ax.annotate(\"\", xy=(0, y_max), xycoords='data',\n",
    "        #            xytext=(1, y_max), textcoords='data',\n",
    "        #            arrowprops=dict(arrowstyle=\"-\", ec='#aaaaaa',\n",
    "        #                            connectionstyle=\"bar,fraction=0.2\"))\n",
    "        #ax.text(0, y_max + .3, stars(p),\n",
    "        #        horizontalalignment='left',\n",
    "        #        verticalalignment='center')\n",
    "        #ax.set_xlabel(emotion, )\n",
    "        #if idx == 0:\n",
    "        #    ax.set_ylabel('Score', rotation=0,)\n",
    "        #else:\n",
    "        #     ax.set_ylabel('', rotation=0,)\n",
    "\n",
    "    \n",
    "    combined_data = pds.concat(frames, ignore_index=True)\n",
    "    combined_data['AWS Score'] = combined_data['AWS Score'].astype(float)\n",
    "    sns.boxplot(data=combined_data, x='Emotion', y='AWS Score', hue=basis, showfliers=False, ax=axes[0])\n",
    "    axes[0].set_ylabel('AWS Score')\n",
    "    g_combined_data['Google Score'] = combined_data['Google Score'].astype(float)\n",
    "    sns.boxplot(data=combined_data, x='Emotion', y='Google Score', hue=basis, showfliers=False, ax=axes[1])\n",
    "    axes[1].set_ylabel('Google Score')\n",
    "    #sns.swarmplot(data=combined_data, x='Emotion', y='Score', hue='Race')\n",
    "    return combined_data, pds.DataFrame.from_dict(deltas)"
   ]
  },
  {
   "cell_type": "code",
   "execution_count": 70,
   "metadata": {},
   "outputs": [
    {
     "name": "stdout",
     "output_type": "stream",
     "text": [
      "Length of affected_class: 35\n",
      "Length of impacting_class: 35\n",
      "AWS emotion: anger, p-value (Wilcoxon) : 0.00000\n",
      "Google emotion: anger, p-value (Wilcoxon) : 0.00001\n",
      "Length of affected_class: 35\n",
      "Length of impacting_class: 35\n",
      "AWS emotion: sadness, p-value (Wilcoxon) : 0.00001\n",
      "Google emotion: sadness, p-value (Wilcoxon) : 0.00000\n",
      "Length of affected_class: 35\n",
      "Length of impacting_class: 35\n",
      "AWS emotion: joy, p-value (Wilcoxon) : 0.00000\n",
      "Google emotion: joy, p-value (Wilcoxon) : 0.00034\n",
      "Length of affected_class: 35\n",
      "Length of impacting_class: 35\n",
      "AWS emotion: fear, p-value (Wilcoxon) : 0.00000\n",
      "Google emotion: fear, p-value (Wilcoxon) : 0.02694\n"
     ]
    },
    {
     "data": {
      "image/png": "[encoded data removed]",
      "text/plain": [
       "<Figure size 864x432 with 2 Axes>"
      ]
     },
     "metadata": {
      "needs_background": "light"
     },
     "output_type": "display_data"
    }
   ],
   "source": [
    "race_combined_data,  racial_bias_uniform_df = create_bias_df('Race')"
   ]
  },
  {
   "cell_type": "code",
   "execution_count": 71,
   "metadata": {},
   "outputs": [
    {
     "data": {
      "text/html": [
       "<div>\n",
       "<style scoped>\n",
       "    .dataframe tbody tr th:only-of-type {\n",
       "        vertical-align: middle;\n",
       "    }\n",
       "\n",
       "    .dataframe tbody tr th {\n",
       "        vertical-align: top;\n",
       "    }\n",
       "\n",
       "    .dataframe thead th {\n",
       "        text-align: right;\n",
       "    }\n",
       "</style>\n",
       "<table border=\"1\" class=\"dataframe\">\n",
       "  <thead>\n",
       "    <tr style=\"text-align: right;\">\n",
       "      <th></th>\n",
       "      <th>AWS Score</th>\n",
       "      <th>Race</th>\n",
       "      <th>Emotion</th>\n",
       "      <th>Google Score</th>\n",
       "    </tr>\n",
       "  </thead>\n",
       "  <tbody>\n",
       "    <tr>\n",
       "      <th>0</th>\n",
       "      <td>-0.870244</td>\n",
       "      <td>African-American</td>\n",
       "      <td>anger</td>\n",
       "      <td>0.0</td>\n",
       "    </tr>\n",
       "    <tr>\n",
       "      <th>1</th>\n",
       "      <td>-0.770119</td>\n",
       "      <td>African-American</td>\n",
       "      <td>anger</td>\n",
       "      <td>0.1</td>\n",
       "    </tr>\n",
       "    <tr>\n",
       "      <th>2</th>\n",
       "      <td>-0.901797</td>\n",
       "      <td>African-American</td>\n",
       "      <td>anger</td>\n",
       "      <td>-0.5</td>\n",
       "    </tr>\n",
       "    <tr>\n",
       "      <th>3</th>\n",
       "      <td>-0.866943</td>\n",
       "      <td>African-American</td>\n",
       "      <td>anger</td>\n",
       "      <td>0.0</td>\n",
       "    </tr>\n",
       "    <tr>\n",
       "      <th>4</th>\n",
       "      <td>-0.916180</td>\n",
       "      <td>African-American</td>\n",
       "      <td>anger</td>\n",
       "      <td>-0.6</td>\n",
       "    </tr>\n",
       "  </tbody>\n",
       "</table>\n",
       "</div>"
      ],
      "text/plain": [
       "   AWS Score              Race Emotion  Google Score\n",
       "0  -0.870244  African-American   anger           0.0\n",
       "1  -0.770119  African-American   anger           0.1\n",
       "2  -0.901797  African-American   anger          -0.5\n",
       "3  -0.866943  African-American   anger           0.0\n",
       "4  -0.916180  African-American   anger          -0.6"
      ]
     },
     "execution_count": 71,
     "metadata": {},
     "output_type": "execute_result"
    }
   ],
   "source": [
    "race_combined_data[:5]"
   ]
  },
  {
   "cell_type": "code",
   "execution_count": 72,
   "metadata": {},
   "outputs": [
    {
     "name": "stdout",
     "output_type": "stream",
     "text": [
      "Length of affected_class: 35\n",
      "Length of impacting_class: 35\n",
      "AWS emotion: anger, p-value (Wilcoxon) : 0.00000\n",
      "Google emotion: anger, p-value (Wilcoxon) : 0.59611\n",
      "Length of affected_class: 35\n",
      "Length of impacting_class: 35\n",
      "AWS emotion: sadness, p-value (Wilcoxon) : 0.00002\n",
      "Google emotion: sadness, p-value (Wilcoxon) : 0.10247\n",
      "Length of affected_class: 35\n",
      "Length of impacting_class: 35\n",
      "AWS emotion: joy, p-value (Wilcoxon) : 0.00000\n",
      "Google emotion: joy, p-value (Wilcoxon) : 0.31731\n",
      "Length of affected_class: 35\n",
      "Length of impacting_class: 35\n",
      "AWS emotion: fear, p-value (Wilcoxon) : 0.00001\n",
      "Google emotion: fear, p-value (Wilcoxon) : 0.01695\n"
     ]
    },
    {
     "name": "stderr",
     "output_type": "stream",
     "text": [
      "/anaconda2/envs/ml/lib/python3.7/site-packages/scipy/stats/morestats.py:2778: UserWarning: Warning: sample size too small for normal approximation.\n",
      "  warnings.warn(\"Warning: sample size too small for normal approximation.\")\n",
      "/anaconda2/envs/ml/lib/python3.7/site-packages/scipy/stats/morestats.py:2778: UserWarning: Warning: sample size too small for normal approximation.\n",
      "  warnings.warn(\"Warning: sample size too small for normal approximation.\")\n",
      "/anaconda2/envs/ml/lib/python3.7/site-packages/scipy/stats/morestats.py:2778: UserWarning: Warning: sample size too small for normal approximation.\n",
      "  warnings.warn(\"Warning: sample size too small for normal approximation.\")\n",
      "/anaconda2/envs/ml/lib/python3.7/site-packages/scipy/stats/morestats.py:2778: UserWarning: Warning: sample size too small for normal approximation.\n",
      "  warnings.warn(\"Warning: sample size too small for normal approximation.\")\n"
     ]
    },
    {
     "data": {
      "image/png": "[encoded data removed]",
      "text/plain": [
       "<Figure size 864x432 with 2 Axes>"
      ]
     },
     "metadata": {
      "needs_background": "light"
     },
     "output_type": "display_data"
    }
   ],
   "source": [
    "gender_combined_data, gender_bias_uniform_df = create_bias_df('Gender')"
   ]
  },
  {
   "cell_type": "code",
   "execution_count": 73,
   "metadata": {},
   "outputs": [
    {
     "data": {
      "text/html": [
       "<div>\n",
       "<style scoped>\n",
       "    .dataframe tbody tr th:only-of-type {\n",
       "        vertical-align: middle;\n",
       "    }\n",
       "\n",
       "    .dataframe tbody tr th {\n",
       "        vertical-align: top;\n",
       "    }\n",
       "\n",
       "    .dataframe thead th {\n",
       "        text-align: right;\n",
       "    }\n",
       "</style>\n",
       "<table border=\"1\" class=\"dataframe\">\n",
       "  <thead>\n",
       "    <tr style=\"text-align: right;\">\n",
       "      <th></th>\n",
       "      <th>AWS Score</th>\n",
       "      <th>Gender</th>\n",
       "      <th>Emotion</th>\n",
       "      <th>Google Score</th>\n",
       "    </tr>\n",
       "  </thead>\n",
       "  <tbody>\n",
       "    <tr>\n",
       "      <th>0</th>\n",
       "      <td>-0.770503</td>\n",
       "      <td>female</td>\n",
       "      <td>anger</td>\n",
       "      <td>0.0</td>\n",
       "    </tr>\n",
       "    <tr>\n",
       "      <th>1</th>\n",
       "      <td>-0.635181</td>\n",
       "      <td>female</td>\n",
       "      <td>anger</td>\n",
       "      <td>0.1</td>\n",
       "    </tr>\n",
       "    <tr>\n",
       "      <th>2</th>\n",
       "      <td>-0.812801</td>\n",
       "      <td>female</td>\n",
       "      <td>anger</td>\n",
       "      <td>-0.5</td>\n",
       "    </tr>\n",
       "    <tr>\n",
       "      <th>3</th>\n",
       "      <td>-0.761539</td>\n",
       "      <td>female</td>\n",
       "      <td>anger</td>\n",
       "      <td>0.0</td>\n",
       "    </tr>\n",
       "    <tr>\n",
       "      <th>4</th>\n",
       "      <td>-0.839454</td>\n",
       "      <td>female</td>\n",
       "      <td>anger</td>\n",
       "      <td>-0.6</td>\n",
       "    </tr>\n",
       "  </tbody>\n",
       "</table>\n",
       "</div>"
      ],
      "text/plain": [
       "   AWS Score  Gender Emotion  Google Score\n",
       "0  -0.770503  female   anger           0.0\n",
       "1  -0.635181  female   anger           0.1\n",
       "2  -0.812801  female   anger          -0.5\n",
       "3  -0.761539  female   anger           0.0\n",
       "4  -0.839454  female   anger          -0.6"
      ]
     },
     "execution_count": 73,
     "metadata": {},
     "output_type": "execute_result"
    }
   ],
   "source": [
    "gender_combined_data[:5]"
   ]
  },
  {
   "cell_type": "code",
   "execution_count": 24,
   "metadata": {},
   "outputs": [],
   "source": [
    "race_combined_data[['Race', 'Score', 'Emotion']].to_csv('./race_data_with_scores.csv', index=None)"
   ]
  },
  {
   "cell_type": "code",
   "execution_count": 25,
   "metadata": {},
   "outputs": [],
   "source": [
    "gender_combined_data[['Gender', 'Score', 'Emotion']].to_csv('./gender_data_with_scores.csv', index=None)"
   ]
  },
  {
   "cell_type": "code",
   "execution_count": null,
   "metadata": {},
   "outputs": [],
   "source": []
  }
 ],
 "metadata": {
  "kernelspec": {
   "display_name": "Python 3",
   "language": "python",
   "name": "python3"
  },
  "language_info": {
   "codemirror_mode": {
    "name": "ipython",
    "version": 3
   },
   "file_extension": ".py",
   "mimetype": "text/x-python",
   "name": "python",
   "nbconvert_exporter": "python",
   "pygments_lexer": "ipython3",
   "version": "3.7.2"
  }
 },
 "nbformat": 4,
 "nbformat_minor": 2
}
